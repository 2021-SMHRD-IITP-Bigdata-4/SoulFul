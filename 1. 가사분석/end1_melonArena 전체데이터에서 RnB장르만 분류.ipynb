{
 "cells": [
  {
   "cell_type": "code",
   "execution_count": 1,
   "metadata": {},
   "outputs": [],
   "source": [
    "import pprint\n",
    "import json\n",
    "from tqdm import tqdm_notebook as tq\n",
    "\n",
    "import pandas as pd"
   ]
  },
  {
   "cell_type": "code",
   "execution_count": 2,
   "metadata": {},
   "outputs": [
    {
     "name": "stdout",
     "output_type": "stream",
     "text": [
      "{'GN0100': '발라드',\n",
      " 'GN0101': '세부장르전체',\n",
      " 'GN0102': \"'80\",\n",
      " 'GN0103': \"'90\",\n",
      " 'GN0104': \"'00\",\n",
      " 'GN0105': \"'10-\",\n",
      " 'GN0200': '댄스',\n",
      " 'GN0201': '세부장르전체',\n",
      " 'GN0202': \"'80\",\n",
      " 'GN0203': \"'90\",\n",
      " 'GN0204': \"'00\",\n",
      " 'GN0205': \"'10-\",\n",
      " 'GN0300': '랩/힙합',\n",
      " 'GN0301': '세부장르전체',\n",
      " 'GN0302': '랩 스타일',\n",
      " 'GN0303': '보컬 스타일',\n",
      " 'GN0304': '언더그라운드 힙합',\n",
      " 'GN0305': '시대별',\n",
      " 'GN0400': 'R&B/Soul',\n",
      " 'GN0401': '세부장르전체',\n",
      " 'GN0402': '어반',\n",
      " 'GN0403': 'R&B',\n",
      " 'GN0500': '인디음악',\n",
      " 'GN0501': '세부장르전체',\n",
      " 'GN0502': '포크',\n",
      " 'GN0503': '록',\n",
      " 'GN0504': '일렉',\n",
      " 'GN0505': '힙합',\n",
      " 'GN0506': '발라드',\n",
      " 'GN0507': \"'90\",\n",
      " 'GN0508': \"'00\",\n",
      " 'GN0509': \"'10-\",\n",
      " 'GN0600': '록/메탈',\n",
      " 'GN0601': '세부장르전체',\n",
      " 'GN0602': \"'70\",\n",
      " 'GN0603': \"'80\",\n",
      " 'GN0604': \"'90\",\n",
      " 'GN0605': \"'00\",\n",
      " 'GN0606': \"'10-\",\n",
      " 'GN0700': '성인가요',\n",
      " 'GN0701': '세부장르전체',\n",
      " 'GN0702': '신세대트로트',\n",
      " 'GN0703': '전설의트로트',\n",
      " 'GN0704': '뽕짝트로트',\n",
      " 'GN0705': '트로트메들리',\n",
      " 'GN0706': \"트로트'60-'70\",\n",
      " 'GN0707': \"트로트'80-'90\",\n",
      " 'GN0708': \"트로트'00-\",\n",
      " 'GN0709': \"성인가요'80-'90\",\n",
      " 'GN0710': \"성인가요'00-\",\n",
      " 'GN0800': '포크/블루스',\n",
      " 'GN0801': '세부장르전체',\n",
      " 'GN0802': \"'60-'70\",\n",
      " 'GN0803': \"'80-'90\",\n",
      " 'GN0804': \"'00\",\n",
      " 'GN0805': \"'10-\",\n",
      " 'GN0900': 'POP',\n",
      " 'GN0901': '세부장르전체',\n",
      " 'GN0902': '얼터너티브팝',\n",
      " 'GN0903': '올디스',\n",
      " 'GN0904': '월드팝',\n",
      " 'GN0905': \"'60-'70\",\n",
      " 'GN0906': \"'80-'90\",\n",
      " 'GN0907': \"'00\",\n",
      " 'GN0908': \"'10-\",\n",
      " 'GN1000': '록/메탈',\n",
      " 'GN1001': '세부장르전체',\n",
      " 'GN1002': '모던록',\n",
      " 'GN1003': '얼터너티브록',\n",
      " 'GN1004': '프로그레시브/아트록',\n",
      " 'GN1005': '하드록',\n",
      " 'GN1006': '헤비메탈',\n",
      " 'GN1007': '뉴메탈/하드코어',\n",
      " 'GN1008': '포스트록',\n",
      " 'GN1009': \"'60\",\n",
      " 'GN1010': \"'70\",\n",
      " 'GN1011': \"'80\",\n",
      " 'GN1012': \"'90\",\n",
      " 'GN1013': \"'00\",\n",
      " 'GN1014': \"'10-\",\n",
      " 'GN1100': '일렉트로니카',\n",
      " 'GN1101': '세부장르전체',\n",
      " 'GN1102': '일렉트로니카',\n",
      " 'GN1103': '하우스',\n",
      " 'GN1104': '클럽뮤직',\n",
      " 'GN1105': '일렉트로닉팝',\n",
      " 'GN1106': \"'80\",\n",
      " 'GN1107': \"'90\",\n",
      " 'GN1108': \"'00\",\n",
      " 'GN1109': \"'10-\",\n",
      " 'GN1200': '랩/힙합',\n",
      " 'GN1201': '세부장르전체',\n",
      " 'GN1202': '팝랩',\n",
      " 'GN1203': '얼터너티브힙합',\n",
      " 'GN1204': '갱스터/하드코어랩',\n",
      " 'GN1205': 'East&West',\n",
      " 'GN1206': \"'80\",\n",
      " 'GN1207': \"'90\",\n",
      " 'GN1208': \"'00\",\n",
      " 'GN1209': \"'10-\",\n",
      " 'GN1300': 'R&B/Soul',\n",
      " 'GN1301': '세부장르전체',\n",
      " 'GN1302': '컨템포러리 R&B',\n",
      " 'GN1303': '소울',\n",
      " 'GN1304': '어반',\n",
      " 'GN1305': \"'60-'70\",\n",
      " 'GN1306': \"'80-'90\",\n",
      " 'GN1307': \"'00\",\n",
      " 'GN1308': \"'10-\",\n",
      " 'GN1400': '포크/블루스/컨트리',\n",
      " 'GN1401': '세부장르전체',\n",
      " 'GN1402': '포크',\n",
      " 'GN1403': '블루스',\n",
      " 'GN1404': '컨트리',\n",
      " 'GN1405': \"'60-'70\",\n",
      " 'GN1406': \"'80-'90\",\n",
      " 'GN1407': \"'00-\",\n",
      " 'GN1500': 'OST',\n",
      " 'GN1501': '세부장르전체',\n",
      " 'GN1502': '국내영화',\n",
      " 'GN1503': '국외영화',\n",
      " 'GN1504': '국내드라마',\n",
      " 'GN1505': '국외드라마',\n",
      " 'GN1506': '애니메이션/게임',\n",
      " 'GN1507': '국내뮤지컬',\n",
      " 'GN1508': '국외뮤지컬',\n",
      " 'GN1509': '애니메이션/웹툰',\n",
      " 'GN1510': '게임',\n",
      " 'GN1600': '클래식',\n",
      " 'GN1601': '세부장르전체',\n",
      " 'GN1602': '관현악',\n",
      " 'GN1603': '교향곡',\n",
      " 'GN1604': '실내악',\n",
      " 'GN1605': '협주곡',\n",
      " 'GN1606': '독주곡',\n",
      " 'GN1607': '오페라',\n",
      " 'GN1608': '크로스오버',\n",
      " 'GN1609': '현대음악',\n",
      " 'GN1610': '성악/합창곡',\n",
      " 'GN1611': '발레/무용',\n",
      " 'GN1612': '지휘/연주자',\n",
      " 'GN1613': '컴필레이션',\n",
      " 'GN1614': '교향/관현악',\n",
      " 'GN1615': '오페라/성악',\n",
      " 'GN1700': '재즈',\n",
      " 'GN1701': '세부장르전체',\n",
      " 'GN1702': '보컬재즈',\n",
      " 'GN1703': '애시드/퓨전/팝',\n",
      " 'GN1704': 'Bop',\n",
      " 'GN1705': '보사노바',\n",
      " 'GN1706': 'J-Jazz',\n",
      " 'GN1707': '라틴재즈',\n",
      " 'GN1708': '빅밴드/스윙',\n",
      " 'GN1709': '악기별',\n",
      " 'GN1710': '컴필레이션',\n",
      " 'GN1800': '뉴에이지',\n",
      " 'GN1801': '세부장르전체',\n",
      " 'GN1802': '이지리스닝',\n",
      " 'GN1803': 'J-Newage',\n",
      " 'GN1804': '기능성음악',\n",
      " 'GN1805': '기타',\n",
      " 'GN1806': '피아노',\n",
      " 'GN1807': '컴필레이션',\n",
      " 'GN1900': 'J-POP',\n",
      " 'GN1901': '세부장르전체',\n",
      " 'GN1902': 'POP',\n",
      " 'GN1903': '록',\n",
      " 'GN1904': '일렉트로니카',\n",
      " 'GN1905': '랩/힙합',\n",
      " 'GN1906': 'R&B/Soul',\n",
      " 'GN1907': '시부야케이',\n",
      " 'GN1908': '뉴에이지',\n",
      " 'GN1909': '재즈',\n",
      " 'GN1910': '힙합/R&B',\n",
      " 'GN1911': \"'80-'90\",\n",
      " 'GN1912': \"'00-'10\",\n",
      " 'GN2000': '월드뮤직',\n",
      " 'GN2001': '세부장르전체',\n",
      " 'GN2002': '샹송/프렌치팝',\n",
      " 'GN2003': '칸초네/이탈리안팝',\n",
      " 'GN2004': '중국음악',\n",
      " 'GN2005': '켈틱/아이리시',\n",
      " 'GN2006': '브라질',\n",
      " 'GN2007': '탱고/플라멩코',\n",
      " 'GN2008': '라틴',\n",
      " 'GN2009': '레게',\n",
      " 'GN2010': '파두',\n",
      " 'GN2100': 'CCM',\n",
      " 'GN2101': '세부장르전체',\n",
      " 'GN2102': '국내CCM',\n",
      " 'GN2103': '국외CCM',\n",
      " 'GN2104': '워십',\n",
      " 'GN2105': '찬송가',\n",
      " 'GN2106': '성가',\n",
      " 'GN2107': '연주곡',\n",
      " 'GN2108': '어린이',\n",
      " 'GN2109': '성경',\n",
      " 'GN2110': 'NEW',\n",
      " 'GN2200': '어린이/태교',\n",
      " 'GN2201': '유아동요',\n",
      " 'GN2202': '창작동요',\n",
      " 'GN2203': '영어동요',\n",
      " 'GN2204': '영어동요',\n",
      " 'GN2205': '영어동요',\n",
      " 'GN2206': '영어동화',\n",
      " 'GN2207': '만화',\n",
      " 'GN2208': '자장가',\n",
      " 'GN2209': '태교동화',\n",
      " 'GN2210': '태교',\n",
      " 'GN2211': '릴렉싱&힐링',\n",
      " 'GN2212': '명작동화',\n",
      " 'GN2213': '교과서동요',\n",
      " 'GN2214': '전래동요',\n",
      " 'GN2215': '창작동화',\n",
      " 'GN2216': '어린이클래식',\n",
      " 'GN2300': '종교음악',\n",
      " 'GN2301': '가톨릭',\n",
      " 'GN2302': '불교',\n",
      " 'GN2400': '국악',\n",
      " 'GN2401': '세부장르전체',\n",
      " 'GN2402': '크로스오버',\n",
      " 'GN2403': '국악가요',\n",
      " 'GN2404': '민요',\n",
      " 'GN2405': '판소리/단가',\n",
      " 'GN2406': '풍물/사물놀이',\n",
      " 'GN2500': '아이돌',\n",
      " 'GN2501': '세부장르전체',\n",
      " 'GN2502': '남자 아이돌',\n",
      " 'GN2503': '여자 아이돌',\n",
      " 'GN2504': '랩/힙합',\n",
      " 'GN2505': '발라드',\n",
      " 'GN2506': '댄스',\n",
      " 'GN2600': '일렉트로니카',\n",
      " 'GN2601': '세부장르전체',\n",
      " 'GN2602': '댄스 스타일',\n",
      " 'GN2603': '팝 스타일',\n",
      " 'GN2604': '시대별',\n",
      " 'GN2700': 'EDM',\n",
      " 'GN2701': '세부장르전체',\n",
      " 'GN2702': '하우스',\n",
      " 'GN2703': '클럽',\n",
      " 'GN2704': 'DJ',\n",
      " 'GN2800': '뮤직테라피',\n",
      " 'GN2801': '세부장르전체',\n",
      " 'GN2802': 'ASMR/자연',\n",
      " 'GN2803': '힐링/명상/요가',\n",
      " 'GN2804': '집중력',\n",
      " 'GN2805': '숙면유도',\n",
      " 'GN2806': '반려동물',\n",
      " 'GN2900': '뮤지컬',\n",
      " 'GN2901': '세부장르전체',\n",
      " 'GN2902': '국내뮤지컬',\n",
      " 'GN2903': '국외뮤지컬',\n",
      " 'GN3000': '크리스마스'}\n"
     ]
    }
   ],
   "source": [
    "with open('data/genre_gn_all (1).json', encoding = 'utf-8') as json_file:\n",
    "    json_data = json.load(json_file)\n",
    "pprint.pprint(json_data)"
   ]
  },
  {
   "cell_type": "code",
   "execution_count": 3,
   "metadata": {},
   "outputs": [],
   "source": [
    "with open('data/song_meta (2).json', encoding = 'utf-8') as json_file:\n",
    "    json_data = json.load(json_file)\n",
    "song_meta = pd.DataFrame(json_data)"
   ]
  },
  {
   "cell_type": "code",
   "execution_count": 4,
   "metadata": {},
   "outputs": [
    {
     "name": "stdout",
     "output_type": "stream",
     "text": [
      "<class 'pandas.core.frame.DataFrame'>\n",
      "RangeIndex: 707989 entries, 0 to 707988\n",
      "Data columns (total 9 columns):\n",
      " #   Column                  Non-Null Count   Dtype \n",
      "---  ------                  --------------   ----- \n",
      " 0   song_gn_dtl_gnr_basket  707989 non-null  object\n",
      " 1   issue_date              707989 non-null  object\n",
      " 2   album_name              707985 non-null  object\n",
      " 3   album_id                707989 non-null  int64 \n",
      " 4   artist_id_basket        707989 non-null  object\n",
      " 5   song_name               707989 non-null  object\n",
      " 6   song_gn_gnr_basket      707989 non-null  object\n",
      " 7   artist_name_basket      707989 non-null  object\n",
      " 8   id                      707989 non-null  int64 \n",
      "dtypes: int64(2), object(7)\n",
      "memory usage: 48.6+ MB\n"
     ]
    }
   ],
   "source": [
    "song_meta.info()"
   ]
  },
  {
   "cell_type": "code",
   "execution_count": 5,
   "metadata": {},
   "outputs": [
    {
     "data": {
      "text/html": [
       "<div>\n",
       "<style scoped>\n",
       "    .dataframe tbody tr th:only-of-type {\n",
       "        vertical-align: middle;\n",
       "    }\n",
       "\n",
       "    .dataframe tbody tr th {\n",
       "        vertical-align: top;\n",
       "    }\n",
       "\n",
       "    .dataframe thead th {\n",
       "        text-align: right;\n",
       "    }\n",
       "</style>\n",
       "<table border=\"1\" class=\"dataframe\">\n",
       "  <thead>\n",
       "    <tr style=\"text-align: right;\">\n",
       "      <th></th>\n",
       "      <th>song_gn_dtl_gnr_basket</th>\n",
       "      <th>issue_date</th>\n",
       "      <th>album_name</th>\n",
       "      <th>album_id</th>\n",
       "      <th>artist_id_basket</th>\n",
       "      <th>song_name</th>\n",
       "      <th>song_gn_gnr_basket</th>\n",
       "      <th>artist_name_basket</th>\n",
       "      <th>id</th>\n",
       "    </tr>\n",
       "  </thead>\n",
       "  <tbody>\n",
       "    <tr>\n",
       "      <th>0</th>\n",
       "      <td>[GN0901]</td>\n",
       "      <td>20140512</td>\n",
       "      <td>불후의 명곡 - 7080 추억의 얄개시대 팝송베스트</td>\n",
       "      <td>2255639</td>\n",
       "      <td>[2727]</td>\n",
       "      <td>Feelings</td>\n",
       "      <td>[GN0900]</td>\n",
       "      <td>[Various Artists]</td>\n",
       "      <td>0</td>\n",
       "    </tr>\n",
       "    <tr>\n",
       "      <th>1</th>\n",
       "      <td>[GN1601, GN1606]</td>\n",
       "      <td>20080421</td>\n",
       "      <td>Bach : Partitas Nos. 2, 3 &amp; 4</td>\n",
       "      <td>376431</td>\n",
       "      <td>[29966]</td>\n",
       "      <td>Bach : Partita No. 4 In D Major, BWV 828 - II....</td>\n",
       "      <td>[GN1600]</td>\n",
       "      <td>[Murray Perahia]</td>\n",
       "      <td>1</td>\n",
       "    </tr>\n",
       "    <tr>\n",
       "      <th>2</th>\n",
       "      <td>[GN0901]</td>\n",
       "      <td>20180518</td>\n",
       "      <td>Hit</td>\n",
       "      <td>4698747</td>\n",
       "      <td>[3361]</td>\n",
       "      <td>Solsbury Hill (Remastered 2002)</td>\n",
       "      <td>[GN0900]</td>\n",
       "      <td>[Peter Gabriel]</td>\n",
       "      <td>2</td>\n",
       "    </tr>\n",
       "    <tr>\n",
       "      <th>3</th>\n",
       "      <td>[GN1102, GN1101]</td>\n",
       "      <td>20151016</td>\n",
       "      <td>Feeling Right (Everything Is Nice) (Feat. Popc...</td>\n",
       "      <td>2644882</td>\n",
       "      <td>[838543]</td>\n",
       "      <td>Feeling Right (Everything Is Nice) (Feat. Popc...</td>\n",
       "      <td>[GN1100]</td>\n",
       "      <td>[Matoma]</td>\n",
       "      <td>3</td>\n",
       "    </tr>\n",
       "    <tr>\n",
       "      <th>4</th>\n",
       "      <td>[GN1802, GN1801]</td>\n",
       "      <td>20110824</td>\n",
       "      <td>그남자 그여자</td>\n",
       "      <td>2008470</td>\n",
       "      <td>[560160]</td>\n",
       "      <td>그남자 그여자</td>\n",
       "      <td>[GN1800]</td>\n",
       "      <td>[Jude Law]</td>\n",
       "      <td>4</td>\n",
       "    </tr>\n",
       "  </tbody>\n",
       "</table>\n",
       "</div>"
      ],
      "text/plain": [
       "  song_gn_dtl_gnr_basket issue_date  \\\n",
       "0               [GN0901]   20140512   \n",
       "1       [GN1601, GN1606]   20080421   \n",
       "2               [GN0901]   20180518   \n",
       "3       [GN1102, GN1101]   20151016   \n",
       "4       [GN1802, GN1801]   20110824   \n",
       "\n",
       "                                          album_name  album_id  \\\n",
       "0                       불후의 명곡 - 7080 추억의 얄개시대 팝송베스트   2255639   \n",
       "1                      Bach : Partitas Nos. 2, 3 & 4    376431   \n",
       "2                                                Hit   4698747   \n",
       "3  Feeling Right (Everything Is Nice) (Feat. Popc...   2644882   \n",
       "4                                            그남자 그여자   2008470   \n",
       "\n",
       "  artist_id_basket                                          song_name  \\\n",
       "0           [2727]                                           Feelings   \n",
       "1          [29966]  Bach : Partita No. 4 In D Major, BWV 828 - II....   \n",
       "2           [3361]                    Solsbury Hill (Remastered 2002)   \n",
       "3         [838543]  Feeling Right (Everything Is Nice) (Feat. Popc...   \n",
       "4         [560160]                                            그남자 그여자   \n",
       "\n",
       "  song_gn_gnr_basket artist_name_basket  id  \n",
       "0           [GN0900]  [Various Artists]   0  \n",
       "1           [GN1600]   [Murray Perahia]   1  \n",
       "2           [GN0900]    [Peter Gabriel]   2  \n",
       "3           [GN1100]           [Matoma]   3  \n",
       "4           [GN1800]         [Jude Law]   4  "
      ]
     },
     "execution_count": 5,
     "metadata": {},
     "output_type": "execute_result"
    }
   ],
   "source": [
    "song_meta.head()"
   ]
  },
  {
   "cell_type": "code",
   "execution_count": 6,
   "metadata": {},
   "outputs": [
    {
     "ename": "AttributeError",
     "evalue": "module 'pandas' has no attribute 'Dataframe'",
     "output_type": "error",
     "traceback": [
      "\u001b[1;31m---------------------------------------------------------------------------\u001b[0m",
      "\u001b[1;31mAttributeError\u001b[0m                            Traceback (most recent call last)",
      "\u001b[1;32m<ipython-input-6-598238ae7731>\u001b[0m in \u001b[0;36m<module>\u001b[1;34m\u001b[0m\n\u001b[1;32m----> 1\u001b[1;33m \u001b[0mRandB\u001b[0m \u001b[1;33m=\u001b[0m \u001b[0mpd\u001b[0m\u001b[1;33m.\u001b[0m\u001b[0mDataframe\u001b[0m\u001b[1;33m(\u001b[0m\u001b[1;33m)\u001b[0m\u001b[1;33m\u001b[0m\u001b[1;33m\u001b[0m\u001b[0m\n\u001b[0m",
      "\u001b[1;32m~\\anaconda3\\lib\\site-packages\\pandas\\__init__.py\u001b[0m in \u001b[0;36m__getattr__\u001b[1;34m(name)\u001b[0m\n\u001b[0;32m    256\u001b[0m             \u001b[1;32mreturn\u001b[0m \u001b[0m_SparseArray\u001b[0m\u001b[1;33m\u001b[0m\u001b[1;33m\u001b[0m\u001b[0m\n\u001b[0;32m    257\u001b[0m \u001b[1;33m\u001b[0m\u001b[0m\n\u001b[1;32m--> 258\u001b[1;33m         \u001b[1;32mraise\u001b[0m \u001b[0mAttributeError\u001b[0m\u001b[1;33m(\u001b[0m\u001b[1;34mf\"module 'pandas' has no attribute '{name}'\"\u001b[0m\u001b[1;33m)\u001b[0m\u001b[1;33m\u001b[0m\u001b[1;33m\u001b[0m\u001b[0m\n\u001b[0m\u001b[0;32m    259\u001b[0m \u001b[1;33m\u001b[0m\u001b[0m\n\u001b[0;32m    260\u001b[0m \u001b[1;33m\u001b[0m\u001b[0m\n",
      "\u001b[1;31mAttributeError\u001b[0m: module 'pandas' has no attribute 'Dataframe'"
     ]
    }
   ],
   "source": [
    "RandB = pd.Dataframe()"
   ]
  },
  {
   "cell_type": "code",
   "execution_count": 7,
   "metadata": {},
   "outputs": [
    {
     "name": "stderr",
     "output_type": "stream",
     "text": [
      "<ipython-input-7-36abb9f8888c>:1: TqdmDeprecationWarning: This function will be removed in tqdm==5.0.0\n",
      "Please use `tqdm.notebook.tqdm` instead of `tqdm.tqdm_notebook`\n",
      "  for i in tq(range (song_meta['song_gn_gnr_basket'].size)):\n"
     ]
    },
    {
     "data": {
      "application/vnd.jupyter.widget-view+json": {
       "model_id": "1058718336ee4c83befe94bd6965d45e",
       "version_major": 2,
       "version_minor": 0
      },
      "text/plain": [
       "HBox(children=(HTML(value=''), FloatProgress(value=0.0, max=707989.0), HTML(value='')))"
      ]
     },
     "metadata": {},
     "output_type": "display_data"
    },
    {
     "name": "stdout",
     "output_type": "stream",
     "text": [
      "\n"
     ]
    }
   ],
   "source": [
    "for i in tq(range (song_meta['song_gn_gnr_basket'].size)):\n",
    "    if len(song_meta['song_gn_gnr_basket'][i])==0:\n",
    "        song_meta.drop(i,axis=0, inplace=True)"
   ]
  },
  {
   "cell_type": "code",
   "execution_count": 8,
   "metadata": {},
   "outputs": [
    {
     "name": "stdout",
     "output_type": "stream",
     "text": [
      "<class 'pandas.core.frame.DataFrame'>\n",
      "Int64Index: 706930 entries, 0 to 707988\n",
      "Data columns (total 9 columns):\n",
      " #   Column                  Non-Null Count   Dtype \n",
      "---  ------                  --------------   ----- \n",
      " 0   song_gn_dtl_gnr_basket  706930 non-null  object\n",
      " 1   issue_date              706930 non-null  object\n",
      " 2   album_name              706926 non-null  object\n",
      " 3   album_id                706930 non-null  int64 \n",
      " 4   artist_id_basket        706930 non-null  object\n",
      " 5   song_name               706930 non-null  object\n",
      " 6   song_gn_gnr_basket      706930 non-null  object\n",
      " 7   artist_name_basket      706930 non-null  object\n",
      " 8   id                      706930 non-null  int64 \n",
      "dtypes: int64(2), object(7)\n",
      "memory usage: 73.9+ MB\n"
     ]
    }
   ],
   "source": [
    "song_meta.info()"
   ]
  },
  {
   "cell_type": "code",
   "execution_count": 9,
   "metadata": {},
   "outputs": [],
   "source": [
    "song_meta = song_meta.reset_index()"
   ]
  },
  {
   "cell_type": "code",
   "execution_count": 10,
   "metadata": {},
   "outputs": [
    {
     "data": {
      "text/plain": [
       "7069300"
      ]
     },
     "execution_count": 10,
     "metadata": {},
     "output_type": "execute_result"
    }
   ],
   "source": [
    "song_meta.size"
   ]
  },
  {
   "cell_type": "code",
   "execution_count": 11,
   "metadata": {},
   "outputs": [
    {
     "name": "stderr",
     "output_type": "stream",
     "text": [
      "<ipython-input-11-d74c00426a26>:2: TqdmDeprecationWarning: This function will be removed in tqdm==5.0.0\n",
      "Please use `tqdm.notebook.tqdm` instead of `tqdm.tqdm_notebook`\n",
      "  for i in tq(range (song_meta['song_gn_gnr_basket'].size)):\n"
     ]
    },
    {
     "data": {
      "application/vnd.jupyter.widget-view+json": {
       "model_id": "167e063f146d4ae8b10938fa21dd75ff",
       "version_major": 2,
       "version_minor": 0
      },
      "text/plain": [
       "HBox(children=(HTML(value=''), FloatProgress(value=0.0, max=706930.0), HTML(value='')))"
      ]
     },
     "metadata": {},
     "output_type": "display_data"
    },
    {
     "name": "stderr",
     "output_type": "stream",
     "text": [
      "<ipython-input-11-d74c00426a26>:6: SettingWithCopyWarning: \n",
      "A value is trying to be set on a copy of a slice from a DataFrame\n",
      "\n",
      "See the caveats in the documentation: https://pandas.pydata.org/pandas-docs/stable/user_guide/indexing.html#returning-a-view-versus-a-copy\n",
      "  song_meta['song_gn_gnr_basket'][i] = 'GN1300'\n"
     ]
    },
    {
     "name": "stdout",
     "output_type": "stream",
     "text": [
      "\n"
     ]
    },
    {
     "ename": "KeyboardInterrupt",
     "evalue": "",
     "output_type": "error",
     "traceback": [
      "\u001b[1;31m---------------------------------------------------------------------------\u001b[0m",
      "\u001b[1;31mKeyboardInterrupt\u001b[0m                         Traceback (most recent call last)",
      "\u001b[1;32m<ipython-input-11-d74c00426a26>\u001b[0m in \u001b[0;36m<module>\u001b[1;34m\u001b[0m\n\u001b[0;32m      4\u001b[0m     \u001b[1;32mfor\u001b[0m \u001b[0mk\u001b[0m \u001b[1;32min\u001b[0m \u001b[0mrange\u001b[0m\u001b[1;33m(\u001b[0m\u001b[0mli_le\u001b[0m\u001b[1;33m)\u001b[0m\u001b[1;33m:\u001b[0m\u001b[1;33m\u001b[0m\u001b[1;33m\u001b[0m\u001b[0m\n\u001b[0;32m      5\u001b[0m         \u001b[1;32mif\u001b[0m \u001b[1;33m(\u001b[0m\u001b[0msong_meta\u001b[0m\u001b[1;33m[\u001b[0m\u001b[1;34m'song_gn_gnr_basket'\u001b[0m\u001b[1;33m]\u001b[0m\u001b[1;33m[\u001b[0m\u001b[0mi\u001b[0m\u001b[1;33m]\u001b[0m\u001b[1;33m)\u001b[0m\u001b[1;33m[\u001b[0m\u001b[0mk\u001b[0m\u001b[1;33m]\u001b[0m \u001b[1;33m==\u001b[0m \u001b[1;34m'GN1300'\u001b[0m\u001b[1;33m:\u001b[0m\u001b[1;33m\u001b[0m\u001b[1;33m\u001b[0m\u001b[0m\n\u001b[1;32m----> 6\u001b[1;33m             \u001b[0msong_meta\u001b[0m\u001b[1;33m[\u001b[0m\u001b[1;34m'song_gn_gnr_basket'\u001b[0m\u001b[1;33m]\u001b[0m\u001b[1;33m[\u001b[0m\u001b[0mi\u001b[0m\u001b[1;33m]\u001b[0m \u001b[1;33m=\u001b[0m \u001b[1;34m'GN1300'\u001b[0m\u001b[1;33m\u001b[0m\u001b[1;33m\u001b[0m\u001b[0m\n\u001b[0m",
      "\u001b[1;32m~\\anaconda3\\lib\\site-packages\\pandas\\core\\series.py\u001b[0m in \u001b[0;36m__setitem__\u001b[1;34m(self, key, value)\u001b[0m\n\u001b[0;32m   1027\u001b[0m \u001b[1;33m\u001b[0m\u001b[0m\n\u001b[0;32m   1028\u001b[0m         \u001b[1;32mif\u001b[0m \u001b[0mcacher_needs_updating\u001b[0m\u001b[1;33m:\u001b[0m\u001b[1;33m\u001b[0m\u001b[1;33m\u001b[0m\u001b[0m\n\u001b[1;32m-> 1029\u001b[1;33m             \u001b[0mself\u001b[0m\u001b[1;33m.\u001b[0m\u001b[0m_maybe_update_cacher\u001b[0m\u001b[1;33m(\u001b[0m\u001b[1;33m)\u001b[0m\u001b[1;33m\u001b[0m\u001b[1;33m\u001b[0m\u001b[0m\n\u001b[0m\u001b[0;32m   1030\u001b[0m \u001b[1;33m\u001b[0m\u001b[0m\n\u001b[0;32m   1031\u001b[0m     \u001b[1;32mdef\u001b[0m \u001b[0m_set_with_engine\u001b[0m\u001b[1;33m(\u001b[0m\u001b[0mself\u001b[0m\u001b[1;33m,\u001b[0m \u001b[0mkey\u001b[0m\u001b[1;33m,\u001b[0m \u001b[0mvalue\u001b[0m\u001b[1;33m)\u001b[0m\u001b[1;33m:\u001b[0m\u001b[1;33m\u001b[0m\u001b[1;33m\u001b[0m\u001b[0m\n",
      "\u001b[1;32m~\\anaconda3\\lib\\site-packages\\pandas\\core\\generic.py\u001b[0m in \u001b[0;36m_maybe_update_cacher\u001b[1;34m(self, clear, verify_is_copy)\u001b[0m\n\u001b[0;32m   3236\u001b[0m                 \u001b[1;32mif\u001b[0m \u001b[0mlen\u001b[0m\u001b[1;33m(\u001b[0m\u001b[0mself\u001b[0m\u001b[1;33m)\u001b[0m \u001b[1;33m==\u001b[0m \u001b[0mlen\u001b[0m\u001b[1;33m(\u001b[0m\u001b[0mref\u001b[0m\u001b[1;33m)\u001b[0m\u001b[1;33m:\u001b[0m\u001b[1;33m\u001b[0m\u001b[1;33m\u001b[0m\u001b[0m\n\u001b[0;32m   3237\u001b[0m                     \u001b[1;31m# otherwise, either self or ref has swapped in new arrays\u001b[0m\u001b[1;33m\u001b[0m\u001b[1;33m\u001b[0m\u001b[1;33m\u001b[0m\u001b[0m\n\u001b[1;32m-> 3238\u001b[1;33m                     \u001b[0mref\u001b[0m\u001b[1;33m.\u001b[0m\u001b[0m_maybe_cache_changed\u001b[0m\u001b[1;33m(\u001b[0m\u001b[0mcacher\u001b[0m\u001b[1;33m[\u001b[0m\u001b[1;36m0\u001b[0m\u001b[1;33m]\u001b[0m\u001b[1;33m,\u001b[0m \u001b[0mself\u001b[0m\u001b[1;33m)\u001b[0m\u001b[1;33m\u001b[0m\u001b[1;33m\u001b[0m\u001b[0m\n\u001b[0m\u001b[0;32m   3239\u001b[0m                 \u001b[1;32melse\u001b[0m\u001b[1;33m:\u001b[0m\u001b[1;33m\u001b[0m\u001b[1;33m\u001b[0m\u001b[0m\n\u001b[0;32m   3240\u001b[0m                     \u001b[1;31m# GH#33675 we have swapped in a new array, so parent\u001b[0m\u001b[1;33m\u001b[0m\u001b[1;33m\u001b[0m\u001b[1;33m\u001b[0m\u001b[0m\n",
      "\u001b[1;32m~\\anaconda3\\lib\\site-packages\\pandas\\core\\generic.py\u001b[0m in \u001b[0;36m_maybe_cache_changed\u001b[1;34m(self, item, value)\u001b[0m\n\u001b[0;32m   3197\u001b[0m         \"\"\"\n\u001b[0;32m   3198\u001b[0m         \u001b[0mloc\u001b[0m \u001b[1;33m=\u001b[0m \u001b[0mself\u001b[0m\u001b[1;33m.\u001b[0m\u001b[0m_info_axis\u001b[0m\u001b[1;33m.\u001b[0m\u001b[0mget_loc\u001b[0m\u001b[1;33m(\u001b[0m\u001b[0mitem\u001b[0m\u001b[1;33m)\u001b[0m\u001b[1;33m\u001b[0m\u001b[1;33m\u001b[0m\u001b[0m\n\u001b[1;32m-> 3199\u001b[1;33m         \u001b[0mself\u001b[0m\u001b[1;33m.\u001b[0m\u001b[0m_mgr\u001b[0m\u001b[1;33m.\u001b[0m\u001b[0miset\u001b[0m\u001b[1;33m(\u001b[0m\u001b[0mloc\u001b[0m\u001b[1;33m,\u001b[0m \u001b[0mvalue\u001b[0m\u001b[1;33m)\u001b[0m\u001b[1;33m\u001b[0m\u001b[1;33m\u001b[0m\u001b[0m\n\u001b[0m\u001b[0;32m   3200\u001b[0m \u001b[1;33m\u001b[0m\u001b[0m\n\u001b[0;32m   3201\u001b[0m     \u001b[1;33m@\u001b[0m\u001b[0mproperty\u001b[0m\u001b[1;33m\u001b[0m\u001b[1;33m\u001b[0m\u001b[0m\n",
      "\u001b[1;32m~\\anaconda3\\lib\\site-packages\\pandas\\core\\internals\\managers.py\u001b[0m in \u001b[0;36miset\u001b[1;34m(self, loc, value)\u001b[0m\n\u001b[0;32m   1094\u001b[0m             \u001b[0mblk_locs\u001b[0m \u001b[1;33m=\u001b[0m \u001b[0mblklocs\u001b[0m\u001b[1;33m[\u001b[0m\u001b[0mval_locs\u001b[0m\u001b[1;33m.\u001b[0m\u001b[0mindexer\u001b[0m\u001b[1;33m]\u001b[0m\u001b[1;33m\u001b[0m\u001b[1;33m\u001b[0m\u001b[0m\n\u001b[0;32m   1095\u001b[0m             \u001b[1;32mif\u001b[0m \u001b[0mblk\u001b[0m\u001b[1;33m.\u001b[0m\u001b[0mshould_store\u001b[0m\u001b[1;33m(\u001b[0m\u001b[0mvalue\u001b[0m\u001b[1;33m)\u001b[0m\u001b[1;33m:\u001b[0m\u001b[1;33m\u001b[0m\u001b[1;33m\u001b[0m\u001b[0m\n\u001b[1;32m-> 1096\u001b[1;33m                 \u001b[0mblk\u001b[0m\u001b[1;33m.\u001b[0m\u001b[0mset\u001b[0m\u001b[1;33m(\u001b[0m\u001b[0mblk_locs\u001b[0m\u001b[1;33m,\u001b[0m \u001b[0mvalue_getitem\u001b[0m\u001b[1;33m(\u001b[0m\u001b[0mval_locs\u001b[0m\u001b[1;33m)\u001b[0m\u001b[1;33m)\u001b[0m\u001b[1;33m\u001b[0m\u001b[1;33m\u001b[0m\u001b[0m\n\u001b[0m\u001b[0;32m   1097\u001b[0m             \u001b[1;32melse\u001b[0m\u001b[1;33m:\u001b[0m\u001b[1;33m\u001b[0m\u001b[1;33m\u001b[0m\u001b[0m\n\u001b[0;32m   1098\u001b[0m                 \u001b[0munfit_mgr_locs\u001b[0m\u001b[1;33m.\u001b[0m\u001b[0mappend\u001b[0m\u001b[1;33m(\u001b[0m\u001b[0mblk\u001b[0m\u001b[1;33m.\u001b[0m\u001b[0mmgr_locs\u001b[0m\u001b[1;33m.\u001b[0m\u001b[0mas_array\u001b[0m\u001b[1;33m[\u001b[0m\u001b[0mblk_locs\u001b[0m\u001b[1;33m]\u001b[0m\u001b[1;33m)\u001b[0m\u001b[1;33m\u001b[0m\u001b[1;33m\u001b[0m\u001b[0m\n",
      "\u001b[1;31mKeyboardInterrupt\u001b[0m: "
     ]
    }
   ],
   "source": [
    "index=[]\n",
    "for i in tq(range (song_meta['song_gn_gnr_basket'].size)):\n",
    "    li_le=len(song_meta['song_gn_gnr_basket'][i])\n",
    "    for k in range(li_le):\n",
    "        if (song_meta['song_gn_gnr_basket'][i])[k] == 'GN1300':\n",
    "            song_meta['song_gn_gnr_basket'][i] = 'GN1300'\n",
    "#         if (song_meta['song_gn_gnr_basket'][i])[k] == 'GN400':\n",
    "#             song_meta['song_gn_gnr_basket'][i] = 'GN400'"
   ]
  },
  {
   "cell_type": "code",
   "execution_count": null,
   "metadata": {},
   "outputs": [],
   "source": [
    "RandB1300 = song_meta[song_meta['song_gn_gnr_basket']=='GN1300']"
   ]
  },
  {
   "cell_type": "code",
   "execution_count": null,
   "metadata": {},
   "outputs": [],
   "source": [
    "RandB400 = song_meta[song_meta['song_gn_gnr_basket']=='GN0400']"
   ]
  },
  {
   "cell_type": "code",
   "execution_count": null,
   "metadata": {},
   "outputs": [],
   "source": [
    "RandB = pd.concat([RandB400,RandB1300])"
   ]
  },
  {
   "cell_type": "code",
   "execution_count": null,
   "metadata": {},
   "outputs": [],
   "source": [
    "RandB = RandB.sort_index()"
   ]
  },
  {
   "cell_type": "code",
   "execution_count": 283,
   "metadata": {},
   "outputs": [],
   "source": [
    "RandB.to_csv('RandB.csv', index=True)"
   ]
  },
  {
   "cell_type": "code",
   "execution_count": null,
   "metadata": {},
   "outputs": [],
   "source": []
  }
 ],
 "metadata": {
  "kernelspec": {
   "display_name": "Python 3",
   "language": "python",
   "name": "python3"
  },
  "language_info": {
   "codemirror_mode": {
    "name": "ipython",
    "version": 3
   },
   "file_extension": ".py",
   "mimetype": "text/x-python",
   "name": "python",
   "nbconvert_exporter": "python",
   "pygments_lexer": "ipython3",
   "version": "3.8.5"
  }
 },
 "nbformat": 4,
 "nbformat_minor": 4
}
