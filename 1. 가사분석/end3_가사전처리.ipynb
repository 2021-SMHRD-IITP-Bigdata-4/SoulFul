{
 "cells": [
  {
   "cell_type": "code",
   "execution_count": 1,
   "metadata": {},
   "outputs": [],
   "source": [
    "import pandas as pd"
   ]
  },
  {
   "cell_type": "code",
   "execution_count": 2,
   "metadata": {},
   "outputs": [],
   "source": [
    "data1 = pd.read_csv('data_fix/data_1_15740.csv')\n",
    "data2 = pd.read_csv('data_fix/data_15470_31479.csv')\n",
    "data3 = pd.read_csv('data_fix/data_31480-36763.csv')\n",
    "data4 = pd.read_csv('data_fix/data_36765-38683.csv')\n",
    "data5 = pd.read_csv('data_fix/data_38684-41799.csv')\n",
    "data6 = pd.read_csv('data_fix/data_41801-43479.csv')\n",
    "data7 = pd.read_csv('data_fix/data_43480-47217.csv')\n",
    "result = pd.concat([data1,data2,data3,data4,data5,data6,data7])"
   ]
  },
  {
   "cell_type": "code",
   "execution_count": 3,
   "metadata": {},
   "outputs": [],
   "source": [
    "data = pd.read_csv('RandB_fix.csv')"
   ]
  },
  {
   "cell_type": "code",
   "execution_count": 4,
   "metadata": {},
   "outputs": [],
   "source": [
    "result=result.reset_index()"
   ]
  },
  {
   "cell_type": "code",
   "execution_count": 5,
   "metadata": {},
   "outputs": [],
   "source": [
    "for i in range(41804, 47217):\n",
    "    if (result['Unnamed: 0'][i-3] - i) != 0:\n",
    "        print(result_fix['Unnamed: 0'][i])"
   ]
  },
  {
   "cell_type": "markdown",
   "metadata": {},
   "source": [
    "#### 데이터 맞추고 멜론에 가사 없는 음원 제거"
   ]
  },
  {
   "cell_type": "code",
   "execution_count": 6,
   "metadata": {},
   "outputs": [
    {
     "data": {
      "text/html": [
       "<div>\n",
       "<style scoped>\n",
       "    .dataframe tbody tr th:only-of-type {\n",
       "        vertical-align: middle;\n",
       "    }\n",
       "\n",
       "    .dataframe tbody tr th {\n",
       "        vertical-align: top;\n",
       "    }\n",
       "\n",
       "    .dataframe thead th {\n",
       "        text-align: right;\n",
       "    }\n",
       "</style>\n",
       "<table border=\"1\" class=\"dataframe\">\n",
       "  <thead>\n",
       "    <tr style=\"text-align: right;\">\n",
       "      <th></th>\n",
       "      <th>Unnamed: 0</th>\n",
       "      <th>issue_date</th>\n",
       "      <th>album_name</th>\n",
       "      <th>song_name</th>\n",
       "      <th>song_gn_gnr_basket</th>\n",
       "      <th>artist_name_basket</th>\n",
       "      <th>id</th>\n",
       "    </tr>\n",
       "  </thead>\n",
       "  <tbody>\n",
       "    <tr>\n",
       "      <th>0</th>\n",
       "      <td>0</td>\n",
       "      <td>20080610</td>\n",
       "      <td>Classic Masters</td>\n",
       "      <td>Everything We Do (2002 Digital Remaster)</td>\n",
       "      <td>GN1300</td>\n",
       "      <td>['Rene &amp; Angela']</td>\n",
       "      <td>11</td>\n",
       "    </tr>\n",
       "    <tr>\n",
       "      <th>1</th>\n",
       "      <td>1</td>\n",
       "      <td>20190802</td>\n",
       "      <td>Jiggy</td>\n",
       "      <td>Jiggy</td>\n",
       "      <td>GN1300</td>\n",
       "      <td>['S.LAY.A']</td>\n",
       "      <td>39</td>\n",
       "    </tr>\n",
       "    <tr>\n",
       "      <th>2</th>\n",
       "      <td>2</td>\n",
       "      <td>20180518</td>\n",
       "      <td>Bad Bad News (Ricky`s Vibe Tape) (Feat. Terrac...</td>\n",
       "      <td>Bad Bad News (Ricky`s Vibe Tape) (Feat. Terrac...</td>\n",
       "      <td>GN1300</td>\n",
       "      <td>['Leon Bridges']</td>\n",
       "      <td>52</td>\n",
       "    </tr>\n",
       "    <tr>\n",
       "      <th>3</th>\n",
       "      <td>3</td>\n",
       "      <td>20160729</td>\n",
       "      <td>Not Nice</td>\n",
       "      <td>Not Nice</td>\n",
       "      <td>GN1300</td>\n",
       "      <td>['PARTYNEXTDOOR']</td>\n",
       "      <td>57</td>\n",
       "    </tr>\n",
       "    <tr>\n",
       "      <th>4</th>\n",
       "      <td>4</td>\n",
       "      <td>20110810</td>\n",
       "      <td>Simple Steps</td>\n",
       "      <td>Rollercoaster</td>\n",
       "      <td>GN1300</td>\n",
       "      <td>['Sam Ock']</td>\n",
       "      <td>71</td>\n",
       "    </tr>\n",
       "    <tr>\n",
       "      <th>...</th>\n",
       "      <td>...</td>\n",
       "      <td>...</td>\n",
       "      <td>...</td>\n",
       "      <td>...</td>\n",
       "      <td>...</td>\n",
       "      <td>...</td>\n",
       "      <td>...</td>\n",
       "    </tr>\n",
       "    <tr>\n",
       "      <th>47213</th>\n",
       "      <td>47213</td>\n",
       "      <td>20170831</td>\n",
       "      <td>New Love</td>\n",
       "      <td>Love For You</td>\n",
       "      <td>GN1300</td>\n",
       "      <td>['Will Soul']</td>\n",
       "      <td>707943</td>\n",
       "    </tr>\n",
       "    <tr>\n",
       "      <th>47214</th>\n",
       "      <td>47214</td>\n",
       "      <td>20111021</td>\n",
       "      <td>Swim Good</td>\n",
       "      <td>Swim Good</td>\n",
       "      <td>GN1300</td>\n",
       "      <td>['Frank Ocean']</td>\n",
       "      <td>707965</td>\n",
       "    </tr>\n",
       "    <tr>\n",
       "      <th>47215</th>\n",
       "      <td>47215</td>\n",
       "      <td>20110902</td>\n",
       "      <td>I Decide (Piano Remix)</td>\n",
       "      <td>I Decide (Piano Remix)</td>\n",
       "      <td>GN0400</td>\n",
       "      <td>['헤리티지(Heritage)']</td>\n",
       "      <td>707969</td>\n",
       "    </tr>\n",
       "    <tr>\n",
       "      <th>47216</th>\n",
       "      <td>47216</td>\n",
       "      <td>20181018</td>\n",
       "      <td>Colors Compilation</td>\n",
       "      <td>Everybody (Just Bounce)</td>\n",
       "      <td>GN1300</td>\n",
       "      <td>['Vbnd']</td>\n",
       "      <td>707976</td>\n",
       "    </tr>\n",
       "    <tr>\n",
       "      <th>47217</th>\n",
       "      <td>47217</td>\n",
       "      <td>20171202</td>\n",
       "      <td>Mirrorball</td>\n",
       "      <td>Mirrorball (Feat. YunB)</td>\n",
       "      <td>GN0400</td>\n",
       "      <td>['SUMIN (수민)']</td>\n",
       "      <td>707980</td>\n",
       "    </tr>\n",
       "  </tbody>\n",
       "</table>\n",
       "<p>47215 rows × 7 columns</p>\n",
       "</div>"
      ],
      "text/plain": [
       "       Unnamed: 0  issue_date  \\\n",
       "0               0    20080610   \n",
       "1               1    20190802   \n",
       "2               2    20180518   \n",
       "3               3    20160729   \n",
       "4               4    20110810   \n",
       "...           ...         ...   \n",
       "47213       47213    20170831   \n",
       "47214       47214    20111021   \n",
       "47215       47215    20110902   \n",
       "47216       47216    20181018   \n",
       "47217       47217    20171202   \n",
       "\n",
       "                                              album_name  \\\n",
       "0                                        Classic Masters   \n",
       "1                                                  Jiggy   \n",
       "2      Bad Bad News (Ricky`s Vibe Tape) (Feat. Terrac...   \n",
       "3                                               Not Nice   \n",
       "4                                           Simple Steps   \n",
       "...                                                  ...   \n",
       "47213                                           New Love   \n",
       "47214                                          Swim Good   \n",
       "47215                             I Decide (Piano Remix)   \n",
       "47216                                 Colors Compilation   \n",
       "47217                                         Mirrorball   \n",
       "\n",
       "                                               song_name song_gn_gnr_basket  \\\n",
       "0               Everything We Do (2002 Digital Remaster)             GN1300   \n",
       "1                                                  Jiggy             GN1300   \n",
       "2      Bad Bad News (Ricky`s Vibe Tape) (Feat. Terrac...             GN1300   \n",
       "3                                               Not Nice             GN1300   \n",
       "4                                          Rollercoaster             GN1300   \n",
       "...                                                  ...                ...   \n",
       "47213                                       Love For You             GN1300   \n",
       "47214                                          Swim Good             GN1300   \n",
       "47215                             I Decide (Piano Remix)             GN0400   \n",
       "47216                            Everybody (Just Bounce)             GN1300   \n",
       "47217                            Mirrorball (Feat. YunB)             GN0400   \n",
       "\n",
       "       artist_name_basket      id  \n",
       "0       ['Rene & Angela']      11  \n",
       "1             ['S.LAY.A']      39  \n",
       "2        ['Leon Bridges']      52  \n",
       "3       ['PARTYNEXTDOOR']      57  \n",
       "4             ['Sam Ock']      71  \n",
       "...                   ...     ...  \n",
       "47213       ['Will Soul']  707943  \n",
       "47214     ['Frank Ocean']  707965  \n",
       "47215  ['헤리티지(Heritage)']  707969  \n",
       "47216            ['Vbnd']  707976  \n",
       "47217      ['SUMIN (수민)']  707980  \n",
       "\n",
       "[47215 rows x 7 columns]"
      ]
     },
     "execution_count": 6,
     "metadata": {},
     "output_type": "execute_result"
    }
   ],
   "source": [
    "data.drop([36765, 38685, 41803], axis = 0)"
   ]
  },
  {
   "cell_type": "code",
   "execution_count": 7,
   "metadata": {},
   "outputs": [
    {
     "data": {
      "text/plain": [
       "Int64Index([    0,     1,     2,     7,     9,    15,    20,    21,    24,\n",
       "               25,\n",
       "            ...\n",
       "            47189, 47190, 47193, 47195, 47196, 47198, 47201, 47207, 47210,\n",
       "            47213],\n",
       "           dtype='int64', length=16932)"
      ]
     },
     "execution_count": 7,
     "metadata": {},
     "output_type": "execute_result"
    }
   ],
   "source": [
    "result[result['lyric'] =='[가사 준비중] 멜론 회원 여러분! 가사 등록을 기다리고 있어요. 가사등록하기'].index"
   ]
  },
  {
   "cell_type": "code",
   "execution_count": 8,
   "metadata": {},
   "outputs": [],
   "source": [
    "result_lyr = result.drop(result[result['lyric'] =='검색실패'].index, axis=0)\n",
    "result_lyr = result_lyr.drop(result[result['lyric'] =='[가사 준비중] 멜론 회원 여러분! 가사 등록을 기다리고 있어요. 가사등록하기'].index, axis=0)"
   ]
  },
  {
   "cell_type": "code",
   "execution_count": 9,
   "metadata": {},
   "outputs": [
    {
     "data": {
      "text/plain": [
       "(26853, 9)"
      ]
     },
     "execution_count": 9,
     "metadata": {},
     "output_type": "execute_result"
    }
   ],
   "source": [
    "result_lyr.shape"
   ]
  },
  {
   "cell_type": "code",
   "execution_count": null,
   "metadata": {},
   "outputs": [],
   "source": []
  },
  {
   "cell_type": "code",
   "execution_count": null,
   "metadata": {},
   "outputs": [],
   "source": []
  },
  {
   "cell_type": "code",
   "execution_count": 10,
   "metadata": {},
   "outputs": [],
   "source": [
    "from konlpy.tag import Kkma\n",
    "import pandas as pd\n",
    "import matplotlib.pyplot as plt\n",
    "import numpy as np\n",
    "import seaborn as sns # 시각화 지원 라이브러리\n",
    "import tqdm as tq\n",
    "from sklearn.model_selection import train_test_split\n",
    "from sklearn.tree import DecisionTreeClassifier\n",
    "from tqdm import tqdm as tq"
   ]
  },
  {
   "cell_type": "markdown",
   "metadata": {},
   "source": [
    "### 한글만 들어있는 가사 데이터셋 만들기"
   ]
  },
  {
   "cell_type": "code",
   "execution_count": 11,
   "metadata": {},
   "outputs": [],
   "source": [
    "data = pd.read_csv('result_lyr.csv')\n",
    "lyr = data['lyric']"
   ]
  },
  {
   "cell_type": "code",
   "execution_count": 12,
   "metadata": {},
   "outputs": [],
   "source": [
    "import re\n",
    "def clean_text(text):\n",
    "    cleaned_text = re.sub('[a-zA-z]','',text)\n",
    "    cleaned_text = re.sub('[0-9]','',cleaned_text)\n",
    "    cleaned_text = re.sub('[\\{\\}\\[�\\]\\/?.,;:|©\\“”‘)\\u2005*~’`!^\\-_+<>@\\#$%&\\\\\\=\\(\\'\\\"\\♥\\♡\\ㅋ\\ㅠ\\ㅜ\\ㄱ\\ㅎ\\ㄲ\\ㅡ\\접기]','',cleaned_text)\n",
    "    return cleaned_text"
   ]
  },
  {
   "cell_type": "code",
   "execution_count": 13,
   "metadata": {},
   "outputs": [],
   "source": [
    "lyr_notEng = []\n",
    "for i in range(len(lyr)):\n",
    "    lyr_notEng.append(clean_text(lyr[i]))"
   ]
  },
  {
   "cell_type": "code",
   "execution_count": 14,
   "metadata": {},
   "outputs": [],
   "source": [
    "data['lyr_notEng'] = lyr_notEng"
   ]
  },
  {
   "cell_type": "markdown",
   "metadata": {},
   "source": [
    "#### 공백만 들어있는 열 제거"
   ]
  },
  {
   "cell_type": "code",
   "execution_count": 16,
   "metadata": {},
   "outputs": [
    {
     "name": "stderr",
     "output_type": "stream",
     "text": [
      "100%|███████████████████████████████████████████████████████████████████████████| 26853/26853 [02:26<00:00, 183.32it/s]\n"
     ]
    }
   ],
   "source": [
    "# df 날리기\n",
    "boole = [not s or s.isspace() for s in lyr_notEng]\n",
    "delet_index = []\n",
    "a = 0\n",
    "k = len(data)\n",
    "for i in tq(range(k)):\n",
    "    boole = [not s or s.isspace() for s in data['lyr_notEng']]\n",
    "    if boole[a]:\n",
    "        data.drop(data.index[a], axis=0, inplace =True)\n",
    "    else:\n",
    "        a=a+1"
   ]
  },
  {
   "cell_type": "markdown",
   "metadata": {},
   "source": [
    "#### 가사 내 공백 제거"
   ]
  },
  {
   "cell_type": "code",
   "execution_count": 17,
   "metadata": {},
   "outputs": [],
   "source": [
    "lyr_notEng_notBlack = []\n",
    "for i in range(len(data)):\n",
    "    rr = ' '.join(data.iloc[i,9].split())\n",
    "    lyr_notEng_notBlack.append(rr)"
   ]
  },
  {
   "cell_type": "code",
   "execution_count": 18,
   "metadata": {},
   "outputs": [],
   "source": [
    "data['lyr_notEng_notBlack'] = lyr_notEng_notBlack"
   ]
  },
  {
   "cell_type": "code",
   "execution_count": null,
   "metadata": {},
   "outputs": [],
   "source": [
    "#data.to_csv('data_dic.csv', index=False)"
   ]
  },
  {
   "cell_type": "code",
   "execution_count": null,
   "metadata": {},
   "outputs": [],
   "source": []
  },
  {
   "cell_type": "code",
   "execution_count": null,
   "metadata": {},
   "outputs": [],
   "source": []
  },
  {
   "cell_type": "markdown",
   "metadata": {},
   "source": [
    "### 영어만 들어있는 가사 데이터셋 만들기"
   ]
  },
  {
   "cell_type": "code",
   "execution_count": 19,
   "metadata": {},
   "outputs": [],
   "source": [
    "data = pd.read_csv('result_lyr.csv')\n",
    "\n",
    "han = pd.read_csv('data_dic.csv')"
   ]
  },
  {
   "cell_type": "code",
   "execution_count": 20,
   "metadata": {},
   "outputs": [],
   "source": [
    "data.index=data['index']"
   ]
  },
  {
   "cell_type": "code",
   "execution_count": 21,
   "metadata": {},
   "outputs": [],
   "source": [
    "han.index=han['index']"
   ]
  },
  {
   "cell_type": "code",
   "execution_count": 22,
   "metadata": {},
   "outputs": [],
   "source": [
    "dataEng = data.drop(han.index, axis=0)\n",
    "lyr = dataEng['lyric']"
   ]
  },
  {
   "cell_type": "code",
   "execution_count": 23,
   "metadata": {},
   "outputs": [],
   "source": [
    "import re\n",
    "def clean_text(text):\n",
    "    cleaned_text = re.sub('[0-9]','',text)\n",
    "    cleaned_text = re.sub('[\\{\\}\\[�\\]\\/?.,;:|©\\“”‘)\\u2005*~’`!^\\-_+<>@\\#$%&\\\\\\=\\(\\'\\\"\\♥\\♡\\ㅋ\\ㅠ\\ㅜ\\ㄱ\\ㅎ\\ㄲ\\ㅡ\\접기]','',cleaned_text)\n",
    "    return cleaned_text"
   ]
  },
  {
   "cell_type": "code",
   "execution_count": 24,
   "metadata": {},
   "outputs": [],
   "source": [
    "lyr_notEng = []\n",
    "for i in lyr:\n",
    "    lyr_notEng.append(clean_text(i))"
   ]
  },
  {
   "cell_type": "code",
   "execution_count": 25,
   "metadata": {},
   "outputs": [],
   "source": [
    "lyr_notEng_notBlack = []\n",
    "for i in lyr_notEng:\n",
    "    rr = ' '.join(i.split())\n",
    "    lyr_notEng_notBlack.append(rr)"
   ]
  },
  {
   "cell_type": "code",
   "execution_count": 26,
   "metadata": {},
   "outputs": [
    {
     "name": "stderr",
     "output_type": "stream",
     "text": [
      "<ipython-input-26-25f48357c782>:1: SettingWithCopyWarning: \n",
      "A value is trying to be set on a copy of a slice from a DataFrame.\n",
      "Try using .loc[row_indexer,col_indexer] = value instead\n",
      "\n",
      "See the caveats in the documentation: https://pandas.pydata.org/pandas-docs/stable/user_guide/indexing.html#returning-a-view-versus-a-copy\n",
      "  dataEng['lyr'] = lyr_notEng\n"
     ]
    }
   ],
   "source": [
    "dataEng['lyr'] = lyr_notEng"
   ]
  },
  {
   "cell_type": "code",
   "execution_count": 27,
   "metadata": {
    "scrolled": true
   },
   "outputs": [
    {
     "data": {
      "text/html": [
       "<div>\n",
       "<style scoped>\n",
       "    .dataframe tbody tr th:only-of-type {\n",
       "        vertical-align: middle;\n",
       "    }\n",
       "\n",
       "    .dataframe tbody tr th {\n",
       "        vertical-align: top;\n",
       "    }\n",
       "\n",
       "    .dataframe thead th {\n",
       "        text-align: right;\n",
       "    }\n",
       "</style>\n",
       "<table border=\"1\" class=\"dataframe\">\n",
       "  <thead>\n",
       "    <tr style=\"text-align: right;\">\n",
       "      <th></th>\n",
       "      <th>index</th>\n",
       "      <th>Unnamed: 0</th>\n",
       "      <th>issue_date</th>\n",
       "      <th>album_name</th>\n",
       "      <th>song_name</th>\n",
       "      <th>song_gn_gnr_basket</th>\n",
       "      <th>artist_name_basket</th>\n",
       "      <th>id</th>\n",
       "      <th>lyric</th>\n",
       "      <th>lyr</th>\n",
       "    </tr>\n",
       "    <tr>\n",
       "      <th>index</th>\n",
       "      <th></th>\n",
       "      <th></th>\n",
       "      <th></th>\n",
       "      <th></th>\n",
       "      <th></th>\n",
       "      <th></th>\n",
       "      <th></th>\n",
       "      <th></th>\n",
       "      <th></th>\n",
       "      <th></th>\n",
       "    </tr>\n",
       "  </thead>\n",
       "  <tbody>\n",
       "    <tr>\n",
       "      <th>14</th>\n",
       "      <td>14</td>\n",
       "      <td>14</td>\n",
       "      <td>20180720</td>\n",
       "      <td>Head In The Clouds</td>\n",
       "      <td>Red Rubies</td>\n",
       "      <td>GN1300</td>\n",
       "      <td>88rising ,  Rich Brian ,  Yung Bans ,  Yung ...</td>\n",
       "      <td>245</td>\n",
       "      <td>Aye, aye, aye Red rubies and they bleed Pop so...</td>\n",
       "      <td>Aye aye aye Red rubies and they bleed Pop some...</td>\n",
       "    </tr>\n",
       "    <tr>\n",
       "      <th>31</th>\n",
       "      <td>31</td>\n",
       "      <td>31</td>\n",
       "      <td>20020101</td>\n",
       "      <td>Lickin` On Both Sides</td>\n",
       "      <td>All I Want</td>\n",
       "      <td>GN1300</td>\n",
       "      <td>Mis-Teeq</td>\n",
       "      <td>409</td>\n",
       "      <td>(Rap) La la la la la (Rap) Boy I wanna be with...</td>\n",
       "      <td>Rap La la la la la Rap Boy I wanna be with you...</td>\n",
       "    </tr>\n",
       "    <tr>\n",
       "      <th>35</th>\n",
       "      <td>35</td>\n",
       "      <td>35</td>\n",
       "      <td>19710000</td>\n",
       "      <td>Live At Filmore West</td>\n",
       "      <td>Make It With You</td>\n",
       "      <td>GN1300</td>\n",
       "      <td>Aretha Franklin</td>\n",
       "      <td>465</td>\n",
       "      <td>Hey have you ever tried Really reaching out fo...</td>\n",
       "      <td>Hey have you ever tried Really reaching out fo...</td>\n",
       "    </tr>\n",
       "    <tr>\n",
       "      <th>46</th>\n",
       "      <td>46</td>\n",
       "      <td>46</td>\n",
       "      <td>20180803</td>\n",
       "      <td>Overdose (Feat. Chris Brown)</td>\n",
       "      <td>Overdose (Feat. Chris Brown)</td>\n",
       "      <td>GN1300</td>\n",
       "      <td>Agnez Mo</td>\n",
       "      <td>651</td>\n",
       "      <td>Oh woah, ooh Oh, oh, eh  Verse 1: Chris Brown,...</td>\n",
       "      <td>Oh woah ooh Oh oh eh  Verse  Chris Brown AGNEZ...</td>\n",
       "    </tr>\n",
       "    <tr>\n",
       "      <th>47</th>\n",
       "      <td>47</td>\n",
       "      <td>47</td>\n",
       "      <td>20140429</td>\n",
       "      <td>스타로부터 스무 발자국 OST</td>\n",
       "      <td>Desperation</td>\n",
       "      <td>GN1300</td>\n",
       "      <td>Judith Hill</td>\n",
       "      <td>669</td>\n",
       "      <td>Maybe you're where you're supposed to be Safel...</td>\n",
       "      <td>Maybe youre where youre supposed to be Safely ...</td>\n",
       "    </tr>\n",
       "    <tr>\n",
       "      <th>...</th>\n",
       "      <td>...</td>\n",
       "      <td>...</td>\n",
       "      <td>...</td>\n",
       "      <td>...</td>\n",
       "      <td>...</td>\n",
       "      <td>...</td>\n",
       "      <td>...</td>\n",
       "      <td>...</td>\n",
       "      <td>...</td>\n",
       "      <td>...</td>\n",
       "    </tr>\n",
       "    <tr>\n",
       "      <th>3703</th>\n",
       "      <td>3703</td>\n",
       "      <td>47183</td>\n",
       "      <td>20160728</td>\n",
       "      <td>Hello World - The Motown Solo Collection</td>\n",
       "      <td>You Are There</td>\n",
       "      <td>GN1300</td>\n",
       "      <td>Michael Jackson</td>\n",
       "      <td>707510</td>\n",
       "      <td>I Wanna Be Where You Are (T-Boy Ross, Leon War...</td>\n",
       "      <td>I Wanna Be Where You Are TBoy Ross Leon Ware  ...</td>\n",
       "    </tr>\n",
       "    <tr>\n",
       "      <th>3707</th>\n",
       "      <td>3707</td>\n",
       "      <td>47187</td>\n",
       "      <td>20061214</td>\n",
       "      <td>Fantasia</td>\n",
       "      <td>Sunshine</td>\n",
       "      <td>GN1300</td>\n",
       "      <td>Fantasia</td>\n",
       "      <td>707538</td>\n",
       "      <td>This that ghetto club R&amp;B They heard this befo...</td>\n",
       "      <td>This that ghetto club RB They heard this befor...</td>\n",
       "    </tr>\n",
       "    <tr>\n",
       "      <th>3720</th>\n",
       "      <td>3720</td>\n",
       "      <td>47200</td>\n",
       "      <td>20060507</td>\n",
       "      <td>Baby Makin` Music</td>\n",
       "      <td>Just Came Here To Chill</td>\n",
       "      <td>GN1300</td>\n",
       "      <td>The Isley Brothers</td>\n",
       "      <td>707691</td>\n",
       "      <td>La da da I just came here to chill  We been ki...</td>\n",
       "      <td>La da da I just came here to chill  We been ki...</td>\n",
       "    </tr>\n",
       "    <tr>\n",
       "      <th>3726</th>\n",
       "      <td>3726</td>\n",
       "      <td>47206</td>\n",
       "      <td>20020603</td>\n",
       "      <td>Instant Vintage</td>\n",
       "      <td>You`re The One That I Like</td>\n",
       "      <td>GN1300</td>\n",
       "      <td>Raphael Saadiq</td>\n",
       "      <td>707899</td>\n",
       "      <td>\"I put it down for the LBC (I put it down for ...</td>\n",
       "      <td>I put it down for the LBC I put it down for a ...</td>\n",
       "    </tr>\n",
       "    <tr>\n",
       "      <th>3732</th>\n",
       "      <td>3732</td>\n",
       "      <td>47212</td>\n",
       "      <td>20010814</td>\n",
       "      <td>Now</td>\n",
       "      <td>Symptom Unknown</td>\n",
       "      <td>GN1300</td>\n",
       "      <td>Maxwell</td>\n",
       "      <td>707933</td>\n",
       "      <td>There's an ocean drained of all its fish Took ...</td>\n",
       "      <td>Theres an ocean drained of all its fish Took a...</td>\n",
       "    </tr>\n",
       "  </tbody>\n",
       "</table>\n",
       "<p>7018 rows × 10 columns</p>\n",
       "</div>"
      ],
      "text/plain": [
       "       index  Unnamed: 0  issue_date  \\\n",
       "index                                  \n",
       "14        14          14    20180720   \n",
       "31        31          31    20020101   \n",
       "35        35          35    19710000   \n",
       "46        46          46    20180803   \n",
       "47        47          47    20140429   \n",
       "...      ...         ...         ...   \n",
       "3703    3703       47183    20160728   \n",
       "3707    3707       47187    20061214   \n",
       "3720    3720       47200    20060507   \n",
       "3726    3726       47206    20020603   \n",
       "3732    3732       47212    20010814   \n",
       "\n",
       "                                     album_name                     song_name  \\\n",
       "index                                                                           \n",
       "14                           Head In The Clouds                    Red Rubies   \n",
       "31                        Lickin` On Both Sides                    All I Want   \n",
       "35                         Live At Filmore West              Make It With You   \n",
       "46                 Overdose (Feat. Chris Brown)  Overdose (Feat. Chris Brown)   \n",
       "47                             스타로부터 스무 발자국 OST                   Desperation   \n",
       "...                                         ...                           ...   \n",
       "3703   Hello World - The Motown Solo Collection                 You Are There   \n",
       "3707                                   Fantasia                      Sunshine   \n",
       "3720                          Baby Makin` Music       Just Came Here To Chill   \n",
       "3726                            Instant Vintage    You`re The One That I Like   \n",
       "3732                                        Now               Symptom Unknown   \n",
       "\n",
       "      song_gn_gnr_basket                                 artist_name_basket  \\\n",
       "index                                                                         \n",
       "14                GN1300    88rising ,  Rich Brian ,  Yung Bans ,  Yung ...   \n",
       "31                GN1300                                         Mis-Teeq     \n",
       "35                GN1300                                  Aretha Franklin     \n",
       "46                GN1300                                         Agnez Mo     \n",
       "47                GN1300                                      Judith Hill     \n",
       "...                  ...                                                ...   \n",
       "3703              GN1300                                  Michael Jackson     \n",
       "3707              GN1300                                         Fantasia     \n",
       "3720              GN1300                               The Isley Brothers     \n",
       "3726              GN1300                                   Raphael Saadiq     \n",
       "3732              GN1300                                          Maxwell     \n",
       "\n",
       "           id                                              lyric  \\\n",
       "index                                                              \n",
       "14        245  Aye, aye, aye Red rubies and they bleed Pop so...   \n",
       "31        409  (Rap) La la la la la (Rap) Boy I wanna be with...   \n",
       "35        465  Hey have you ever tried Really reaching out fo...   \n",
       "46        651  Oh woah, ooh Oh, oh, eh  Verse 1: Chris Brown,...   \n",
       "47        669  Maybe you're where you're supposed to be Safel...   \n",
       "...       ...                                                ...   \n",
       "3703   707510  I Wanna Be Where You Are (T-Boy Ross, Leon War...   \n",
       "3707   707538  This that ghetto club R&B They heard this befo...   \n",
       "3720   707691  La da da I just came here to chill  We been ki...   \n",
       "3726   707899  \"I put it down for the LBC (I put it down for ...   \n",
       "3732   707933  There's an ocean drained of all its fish Took ...   \n",
       "\n",
       "                                                     lyr  \n",
       "index                                                     \n",
       "14     Aye aye aye Red rubies and they bleed Pop some...  \n",
       "31     Rap La la la la la Rap Boy I wanna be with you...  \n",
       "35     Hey have you ever tried Really reaching out fo...  \n",
       "46     Oh woah ooh Oh oh eh  Verse  Chris Brown AGNEZ...  \n",
       "47     Maybe youre where youre supposed to be Safely ...  \n",
       "...                                                  ...  \n",
       "3703   I Wanna Be Where You Are TBoy Ross Leon Ware  ...  \n",
       "3707   This that ghetto club RB They heard this befor...  \n",
       "3720   La da da I just came here to chill  We been ki...  \n",
       "3726   I put it down for the LBC I put it down for a ...  \n",
       "3732   Theres an ocean drained of all its fish Took a...  \n",
       "\n",
       "[7018 rows x 10 columns]"
      ]
     },
     "execution_count": 27,
     "metadata": {},
     "output_type": "execute_result"
    }
   ],
   "source": [
    "dataEng"
   ]
  },
  {
   "cell_type": "code",
   "execution_count": null,
   "metadata": {},
   "outputs": [],
   "source": [
    "#dataEng.to_csv('dataEng.csv', index=False)"
   ]
  }
 ],
 "metadata": {
  "kernelspec": {
   "display_name": "Python 3",
   "language": "python",
   "name": "python3"
  },
  "language_info": {
   "codemirror_mode": {
    "name": "ipython",
    "version": 3
   },
   "file_extension": ".py",
   "mimetype": "text/x-python",
   "name": "python",
   "nbconvert_exporter": "python",
   "pygments_lexer": "ipython3",
   "version": "3.8.5"
  }
 },
 "nbformat": 4,
 "nbformat_minor": 4
}
